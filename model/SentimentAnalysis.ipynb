{
 "cells": [
  {
   "cell_type": "code",
   "execution_count": 6,
   "id": "583f84fb-fa55-4c1e-a0ff-a45cb2a35cc0",
   "metadata": {},
   "outputs": [],
   "source": [
    "from sklearn.feature_extraction.text import TfidfVectorizer\n",
    "from sklearn.model_selection import train_test_split\n",
    "from sklearn.naive_bayes import MultinomialNB\n",
    "from sklearn.metrics import accuracy_score, classification_report\n",
    "from stopwordsiso import stopwords"
   ]
  },
  {
   "cell_type": "code",
   "execution_count": 4,
   "id": "0e83f46c-a87d-456b-a2d7-4e769c292e96",
   "metadata": {},
   "outputs": [
    {
     "name": "stderr",
     "output_type": "stream",
     "text": [
      "/home/vaxraxd/.local/lib/python3.10/site-packages/tqdm/auto.py:21: TqdmWarning: IProgress not found. Please update jupyter and ipywidgets. See https://ipywidgets.readthedocs.io/en/stable/user_install.html\n",
      "  from .autonotebook import tqdm as notebook_tqdm\n",
      "Downloading https://raw.githubusercontent.com/stanfordnlp/stanza-resources/main/resources_1.5.1.json: 365kB [00:00, 9.83MB/s]\n",
      "2023-09-28 12:34:19 INFO: Downloading default packages for language: mr (Marathi) ...\n",
      "Downloading https://huggingface.co/stanfordnlp/stanza-mr/resolve/v1.5.1/models/d\n",
      "2023-09-28 12:36:33 INFO: Finished downloading models and saved to /home/vaxraxd/stanza_resources.\n"
     ]
    }
   ],
   "source": [
    "import stanza\n",
    "stanza.download('mr')"
   ]
  },
  {
   "cell_type": "code",
   "execution_count": 2,
   "id": "3c6617dc-4e08-4021-96ff-a6a315b1fbd8",
   "metadata": {},
   "outputs": [],
   "source": [
    "import pandas as pd\n",
    "\n",
    "df=pd.read_csv(\"../dataset/marathi.csv\")\n",
    "X = df.iloc[:, 0]\n",
    "y = df.iloc[:, 1]"
   ]
  },
  {
   "cell_type": "code",
   "execution_count": 3,
   "id": "be3e6b26-a341-4885-a3d1-4f35747d8261",
   "metadata": {},
   "outputs": [],
   "source": [
    "import re\n",
    "\n",
    "def remove_emojis(data):\n",
    "    emoj = re.compile(\"[\"\n",
    "        u\"\\U00002700-\\U000027BF\"  # Dingbats\n",
    "        u\"\\U0001F600-\\U0001F64F\"  # Emoticons\n",
    "        u\"\\U00002600-\\U000026FF\"  # Miscellaneous Symbols\n",
    "        u\"\\U0001F300-\\U0001F5FF\"  # Miscellaneous Symbols And Pictographs\n",
    "        u\"\\U0001F900-\\U0001F9FF\"  # Supplemental Symbols and Pictographs\n",
    "        u\"\\U0001FA70-\\U0001FAFF\"  # Symbols and Pictographs Extended-A\n",
    "        u\"\\U0001F680-\\U0001F6FF\"  # Transport and Map Symbols\n",
    "                      \"]+\", re.UNICODE)\n",
    "    return re.sub(emoj, '', data)\n",
    "\n",
    "def remove_unicode_chars(data):\n",
    "    pattern = re.compile(u\"[\\u200c-\\u200f\\u202a-\\u202f\\u2066-\\u2069]\")\n",
    "    return pattern.sub(\"\", data)"
   ]
  },
  {
   "cell_type": "code",
   "execution_count": 4,
   "id": "c0cc8d03-1a5e-46ee-af5c-ed60612e4dd0",
   "metadata": {},
   "outputs": [],
   "source": [
    "def Preprocessing_for_Marathi_Language(marathi_text):\n",
    "\n",
    "  #Remove Emojis\n",
    "  marathi_text=remove_emojis(marathi_text)\n",
    "\n",
    "  #Removing Punctuations\n",
    "  punctuations = '''!()-[]{};:'\"\\, <>./?@#$%^&*_~'''\n",
    "  punctuation_removed_text = marathi_text\n",
    "  for ele in marathi_text:\n",
    "      if ele in punctuations:\n",
    "          punctuation_removed_text = punctuation_removed_text.replace(ele, \" \")\n",
    "\n",
    "  #Tokenization\n",
    "  tokenized_text = punctuation_removed_text.split(\" \")\n",
    "\n",
    "  #Remove Spaces\n",
    "  tokenized_text=list(filter((\"\").__ne__,tokenized_text))\n",
    "  # print(tokenized_text)\n",
    "\n",
    "  #Filter only marathi words\n",
    "  final_words=list()\n",
    "  for word in tokenized_text:\n",
    "    word=remove_unicode_chars(word)\n",
    "    if len(word)==0:\n",
    "      continue\n",
    "    if any(char.isdigit() for char in word):\n",
    "      continue\n",
    "    if not ('a' <= word[0] <= 'z' or 'A' <= word[0] <= 'Z' or word[0].isdigit() or '\\n' in word):\n",
    "      final_words.append(word)\n",
    "  final_marathi_text=\" \".join(final_words)\n",
    "\n",
    "  #Removing Stopwords\n",
    "  stopwords_removed_text=list()\n",
    "  stopwords_collection = stopwords('mr')\n",
    "  for i in final_words:\n",
    "      if i not in stopwords_collection:\n",
    "          stopwords_removed_text.append(i)\n",
    "\n",
    "  #Remove Spaces\n",
    "  final_list=list()\n",
    "  for token in stopwords_removed_text:\n",
    "    if token!=\"\":\n",
    "      final_list.append(token)\n",
    "  return \" \".join(final_list)"
   ]
  },
  {
   "cell_type": "code",
   "execution_count": 7,
   "id": "aa16a4e9-03eb-48c2-a237-46e5c68fcfee",
   "metadata": {},
   "outputs": [
    {
     "name": "stderr",
     "output_type": "stream",
     "text": [
      "IOPub data rate exceeded.\n",
      "The Jupyter server will temporarily stop sending output\n",
      "to the client in order to avoid crashing it.\n",
      "To change this limit, set the config variable\n",
      "`--ServerApp.iopub_data_rate_limit`.\n",
      "\n",
      "Current values:\n",
      "ServerApp.iopub_data_rate_limit=1000000.0 (bytes/sec)\n",
      "ServerApp.rate_limit_window=3.0 (secs)\n",
      "\n"
     ]
    }
   ],
   "source": [
    "for i in range(len(X)):\n",
    "  X[i]=Preprocessing_for_Marathi_Language(X[i])"
   ]
  },
  {
   "cell_type": "code",
   "execution_count": 9,
   "id": "dac41ba6-e92c-44d5-bba5-451a53c6aa16",
   "metadata": {},
   "outputs": [],
   "source": [
    "X_train, X_test, y_train, y_test = train_test_split(X, y, random_state=3)"
   ]
  },
  {
   "cell_type": "code",
   "execution_count": 10,
   "id": "522fcc09-d224-40b1-a676-e9e2c5f35c38",
   "metadata": {},
   "outputs": [],
   "source": [
    "vectorizer = TfidfVectorizer(decode_error=\"ignore\")\n",
    "X_train_tfidf = vectorizer.fit_transform(X_train)\n",
    "X_test_tfidf = vectorizer.transform(X_test)"
   ]
  },
  {
   "cell_type": "code",
   "execution_count": 11,
   "id": "929ccbf2-0431-43ae-9e4e-38281d3dd267",
   "metadata": {},
   "outputs": [
    {
     "data": {
      "text/html": [
       "<style>#sk-container-id-1 {color: black;}#sk-container-id-1 pre{padding: 0;}#sk-container-id-1 div.sk-toggleable {background-color: white;}#sk-container-id-1 label.sk-toggleable__label {cursor: pointer;display: block;width: 100%;margin-bottom: 0;padding: 0.3em;box-sizing: border-box;text-align: center;}#sk-container-id-1 label.sk-toggleable__label-arrow:before {content: \"▸\";float: left;margin-right: 0.25em;color: #696969;}#sk-container-id-1 label.sk-toggleable__label-arrow:hover:before {color: black;}#sk-container-id-1 div.sk-estimator:hover label.sk-toggleable__label-arrow:before {color: black;}#sk-container-id-1 div.sk-toggleable__content {max-height: 0;max-width: 0;overflow: hidden;text-align: left;background-color: #f0f8ff;}#sk-container-id-1 div.sk-toggleable__content pre {margin: 0.2em;color: black;border-radius: 0.25em;background-color: #f0f8ff;}#sk-container-id-1 input.sk-toggleable__control:checked~div.sk-toggleable__content {max-height: 200px;max-width: 100%;overflow: auto;}#sk-container-id-1 input.sk-toggleable__control:checked~label.sk-toggleable__label-arrow:before {content: \"▾\";}#sk-container-id-1 div.sk-estimator input.sk-toggleable__control:checked~label.sk-toggleable__label {background-color: #d4ebff;}#sk-container-id-1 div.sk-label input.sk-toggleable__control:checked~label.sk-toggleable__label {background-color: #d4ebff;}#sk-container-id-1 input.sk-hidden--visually {border: 0;clip: rect(1px 1px 1px 1px);clip: rect(1px, 1px, 1px, 1px);height: 1px;margin: -1px;overflow: hidden;padding: 0;position: absolute;width: 1px;}#sk-container-id-1 div.sk-estimator {font-family: monospace;background-color: #f0f8ff;border: 1px dotted black;border-radius: 0.25em;box-sizing: border-box;margin-bottom: 0.5em;}#sk-container-id-1 div.sk-estimator:hover {background-color: #d4ebff;}#sk-container-id-1 div.sk-parallel-item::after {content: \"\";width: 100%;border-bottom: 1px solid gray;flex-grow: 1;}#sk-container-id-1 div.sk-label:hover label.sk-toggleable__label {background-color: #d4ebff;}#sk-container-id-1 div.sk-serial::before {content: \"\";position: absolute;border-left: 1px solid gray;box-sizing: border-box;top: 0;bottom: 0;left: 50%;z-index: 0;}#sk-container-id-1 div.sk-serial {display: flex;flex-direction: column;align-items: center;background-color: white;padding-right: 0.2em;padding-left: 0.2em;position: relative;}#sk-container-id-1 div.sk-item {position: relative;z-index: 1;}#sk-container-id-1 div.sk-parallel {display: flex;align-items: stretch;justify-content: center;background-color: white;position: relative;}#sk-container-id-1 div.sk-item::before, #sk-container-id-1 div.sk-parallel-item::before {content: \"\";position: absolute;border-left: 1px solid gray;box-sizing: border-box;top: 0;bottom: 0;left: 50%;z-index: -1;}#sk-container-id-1 div.sk-parallel-item {display: flex;flex-direction: column;z-index: 1;position: relative;background-color: white;}#sk-container-id-1 div.sk-parallel-item:first-child::after {align-self: flex-end;width: 50%;}#sk-container-id-1 div.sk-parallel-item:last-child::after {align-self: flex-start;width: 50%;}#sk-container-id-1 div.sk-parallel-item:only-child::after {width: 0;}#sk-container-id-1 div.sk-dashed-wrapped {border: 1px dashed gray;margin: 0 0.4em 0.5em 0.4em;box-sizing: border-box;padding-bottom: 0.4em;background-color: white;}#sk-container-id-1 div.sk-label label {font-family: monospace;font-weight: bold;display: inline-block;line-height: 1.2em;}#sk-container-id-1 div.sk-label-container {text-align: center;}#sk-container-id-1 div.sk-container {/* jupyter's `normalize.less` sets `[hidden] { display: none; }` but bootstrap.min.css set `[hidden] { display: none !important; }` so we also need the `!important` here to be able to override the default hidden behavior on the sphinx rendered scikit-learn.org. See: https://github.com/scikit-learn/scikit-learn/issues/21755 */display: inline-block !important;position: relative;}#sk-container-id-1 div.sk-text-repr-fallback {display: none;}</style><div id=\"sk-container-id-1\" class=\"sk-top-container\"><div class=\"sk-text-repr-fallback\"><pre>MultinomialNB()</pre><b>In a Jupyter environment, please rerun this cell to show the HTML representation or trust the notebook. <br />On GitHub, the HTML representation is unable to render, please try loading this page with nbviewer.org.</b></div><div class=\"sk-container\" hidden><div class=\"sk-item\"><div class=\"sk-estimator sk-toggleable\"><input class=\"sk-toggleable__control sk-hidden--visually\" id=\"sk-estimator-id-1\" type=\"checkbox\" checked><label for=\"sk-estimator-id-1\" class=\"sk-toggleable__label sk-toggleable__label-arrow\">MultinomialNB</label><div class=\"sk-toggleable__content\"><pre>MultinomialNB()</pre></div></div></div></div></div>"
      ],
      "text/plain": [
       "MultinomialNB()"
      ]
     },
     "execution_count": 11,
     "metadata": {},
     "output_type": "execute_result"
    }
   ],
   "source": [
    "clf = MultinomialNB()\n",
    "clf.fit(X_train_tfidf, y_train)"
   ]
  },
  {
   "cell_type": "code",
   "execution_count": 12,
   "id": "d61ccda2-2247-4662-9191-d5e8c1fa021e",
   "metadata": {},
   "outputs": [
    {
     "name": "stdout",
     "output_type": "stream",
     "text": [
      "0.6860349950478706\n"
     ]
    }
   ],
   "source": [
    "y_pred = clf.predict(X_test_tfidf)\n",
    "print(accuracy_score(y_test,y_pred))"
   ]
  },
  {
   "cell_type": "code",
   "execution_count": 15,
   "id": "cd533523-307c-4406-b8ab-5bb2ffb2be16",
   "metadata": {},
   "outputs": [
    {
     "name": "stdout",
     "output_type": "stream",
     "text": [
      "Defaulting to user installation because normal site-packages is not writeable\n",
      "Requirement already satisfied: joblib in /home/vaxraxd/.local/lib/python3.10/site-packages (1.3.2)\n"
     ]
    },
    {
     "data": {
      "text/plain": [
       "['sent_analysis.pkl']"
      ]
     },
     "execution_count": 15,
     "metadata": {},
     "output_type": "execute_result"
    }
   ],
   "source": [
    "!pip install joblib\n",
    "import joblib \n",
    "joblib.dump(clf, 'sent_analysis.pkl')"
   ]
  },
  {
   "cell_type": "code",
   "execution_count": 13,
   "id": "0a464a18-cae4-4902-b19a-072b65346994",
   "metadata": {},
   "outputs": [
    {
     "name": "stdout",
     "output_type": "stream",
     "text": [
      "[-1]\n"
     ]
    }
   ],
   "source": [
    "import numpy as np\n",
    "\n",
    "def analyzeSentiment(text):\n",
    "  data = np.array([Preprocessing_for_Marathi_Language(text)])\n",
    "  news = pd.Series(data)\n",
    "  a_pred = clf.predict(vectorizer.transform(news))\n",
    "  print(a_pred)\n",
    "\n",
    "analyzeSentiment(\"  बंगळूरु परिवहन सेवेला #Budget2020 मध्ये  वीस टक्के भागभांडवल दिलं जातं पण,मुंबई, पुणे, नागपूरच्या परिवहन सेवेचा साधा उल्लेखही नाही. गुजरातच्या गिफ्ट सिटीमध्ये आंतरराष्ट्रीय सोने-चांदी बाजाराची घोषणा होते, हे सारं मुंबई आणि महाराष्ट्राचं महत्त्व कमी करण्यासाठी तर नाही ना?\")"
   ]
  }
 ],
 "metadata": {
  "kernelspec": {
   "display_name": "Python 3 (ipykernel)",
   "language": "python",
   "name": "python3"
  },
  "language_info": {
   "codemirror_mode": {
    "name": "ipython",
    "version": 3
   },
   "file_extension": ".py",
   "mimetype": "text/x-python",
   "name": "python",
   "nbconvert_exporter": "python",
   "pygments_lexer": "ipython3",
   "version": "3.10.12"
  }
 },
 "nbformat": 4,
 "nbformat_minor": 5
}
